{
  "nbformat": 4,
  "nbformat_minor": 0,
  "metadata": {
    "colab": {
      "provenance": [],
      "authorship_tag": "ABX9TyOeq8j2QVAPJYh4I5EFIOQa",
      "include_colab_link": true
    },
    "kernelspec": {
      "name": "python3",
      "display_name": "Python 3"
    },
    "language_info": {
      "name": "python"
    }
  },
  "cells": [
    {
      "cell_type": "markdown",
      "metadata": {
        "id": "view-in-github",
        "colab_type": "text"
      },
      "source": [
        "<a href=\"https://colab.research.google.com/github/Udayan-Joshi/Internship-Projects/blob/main/Digit_Prediction_Model.ipynb\" target=\"_parent\"><img src=\"https://colab.research.google.com/assets/colab-badge.svg\" alt=\"Open In Colab\"/></a>"
      ]
    },
    {
      "cell_type": "markdown",
      "source": [
        "**TITLE - Hand Written Digit Prediction - Classification Analysis**\n",
        "\n",
        "**OBJECTIVE** - The digit dataset consists of 8x8 pixel images of digits. The images attribute of the dataset stores 8x8 arrays of grayscale values for each image. **We have to identify or visualise the first four digit images.** The target attribute of the dataset stores the digit represented by each image.\n"
      ],
      "metadata": {
        "id": "cl3RpHQol7pH"
      }
    },
    {
      "cell_type": "code",
      "source": [
        "#Import libraries\n",
        "import pandas as pd\n",
        "import numpy as np\n",
        "import matplotlib.pyplot as plt"
      ],
      "metadata": {
        "id": "hQ3bzfu2l5N-"
      },
      "execution_count": null,
      "outputs": []
    },
    {
      "cell_type": "code",
      "source": [
        "#Import data\n",
        "from sklearn.datasets import load_digits"
      ],
      "metadata": {
        "id": "e6ffIaZUomw3"
      },
      "execution_count": null,
      "outputs": []
    },
    {
      "cell_type": "code",
      "source": [
        "df=load_digits()"
      ],
      "metadata": {
        "id": "b7Jjl2RfpZRq"
      },
      "execution_count": null,
      "outputs": []
    },
    {
      "cell_type": "code",
      "source": [
        "_, axes= plt.subplots(nrows=1, ncols=4, figsize=(10,3))\n",
        "for ax, image, label in zip(axes, df.images, df.target):\n",
        "  ax.set_axis_off()\n",
        "  ax.imshow(image, cmap=plt.cm.gray_r, interpolation=\"nearest\")\n",
        "  ax.set_title(\"Training: %i\" % label)"
      ],
      "metadata": {
        "colab": {
          "base_uri": "https://localhost:8080/",
          "height": 227
        },
        "id": "HpNWwIlEpesp",
        "outputId": "a01568ae-93b7-481f-bd21-92c29832e691"
      },
      "execution_count": null,
      "outputs": [
        {
          "output_type": "display_data",
          "data": {
            "text/plain": [
              "<Figure size 1000x300 with 4 Axes>"
            ],
            "image/png": "[encoded data removed]"
          },
          "metadata": {}
        }
      ]
    },
    {
      "cell_type": "markdown",
      "source": [
        "Data Preprocessing"
      ],
      "metadata": {
        "id": "F2Cb2-uErpXU"
      }
    },
    {
      "cell_type": "code",
      "source": [
        "df.images.shape"
      ],
      "metadata": {
        "colab": {
          "base_uri": "https://localhost:8080/"
        },
        "id": "PnD3dX_Jqbns",
        "outputId": "878afb14-f400-4412-aef4-36974f4fc9b9"
      },
      "execution_count": null,
      "outputs": [
        {
          "output_type": "execute_result",
          "data": {
            "text/plain": [
              "(1797, 8, 8)"
            ]
          },
          "metadata": {},
          "execution_count": 9
        }
      ]
    },
    {
      "cell_type": "code",
      "source": [
        "df.images[0]"
      ],
      "metadata": {
        "colab": {
          "base_uri": "https://localhost:8080/"
        },
        "id": "BjQaXj90qby0",
        "outputId": "3c1ee8da-7bcc-47ea-c09b-46c2f73a1be9"
      },
      "execution_count": null,
      "outputs": [
        {
          "output_type": "execute_result",
          "data": {
            "text/plain": [
              "array([[ 0.,  0.,  5., 13.,  9.,  1.,  0.,  0.],\n",
              "       [ 0.,  0., 13., 15., 10., 15.,  5.,  0.],\n",
              "       [ 0.,  3., 15.,  2.,  0., 11.,  8.,  0.],\n",
              "       [ 0.,  4., 12.,  0.,  0.,  8.,  8.,  0.],\n",
              "       [ 0.,  5.,  8.,  0.,  0.,  9.,  8.,  0.],\n",
              "       [ 0.,  4., 11.,  0.,  1., 12.,  7.,  0.],\n",
              "       [ 0.,  2., 14.,  5., 10., 12.,  0.,  0.],\n",
              "       [ 0.,  0.,  6., 13., 10.,  0.,  0.,  0.]])"
            ]
          },
          "metadata": {},
          "execution_count": 11
        }
      ]
    },
    {
      "cell_type": "code",
      "source": [
        "df.images[0].shape"
      ],
      "metadata": {
        "colab": {
          "base_uri": "https://localhost:8080/"
        },
        "id": "8VbkpAhpq_Yx",
        "outputId": "0d17acb7-5756-4c42-8ea5-cc4628e5530d"
      },
      "execution_count": null,
      "outputs": [
        {
          "output_type": "execute_result",
          "data": {
            "text/plain": [
              "(8, 8)"
            ]
          },
          "metadata": {},
          "execution_count": 13
        }
      ]
    },
    {
      "cell_type": "code",
      "source": [
        "len(df.images)"
      ],
      "metadata": {
        "colab": {
          "base_uri": "https://localhost:8080/"
        },
        "id": "hYb1wXterB6y",
        "outputId": "6d3fb396-8bde-4b45-b6cf-3b74b7590e68"
      },
      "execution_count": null,
      "outputs": [
        {
          "output_type": "execute_result",
          "data": {
            "text/plain": [
              "1797"
            ]
          },
          "metadata": {},
          "execution_count": 18
        }
      ]
    },
    {
      "cell_type": "code",
      "source": [
        "n_samples = len(df.images)\n",
        "data=df.images.reshape((n_samples,-1))"
      ],
      "metadata": {
        "id": "vrHYAWierKsG"
      },
      "execution_count": null,
      "outputs": []
    },
    {
      "cell_type": "code",
      "source": [
        "data[0]"
      ],
      "metadata": {
        "colab": {
          "base_uri": "https://localhost:8080/"
        },
        "id": "LRssVd9YrLe3",
        "outputId": "f9e1d643-4b1d-4f76-8fd6-34582eeaabc9"
      },
      "execution_count": null,
      "outputs": [
        {
          "output_type": "execute_result",
          "data": {
            "text/plain": [
              "array([ 0.,  0.,  5., 13.,  9.,  1.,  0.,  0.,  0.,  0., 13., 15., 10.,\n",
              "       15.,  5.,  0.,  0.,  3., 15.,  2.,  0., 11.,  8.,  0.,  0.,  4.,\n",
              "       12.,  0.,  0.,  8.,  8.,  0.,  0.,  5.,  8.,  0.,  0.,  9.,  8.,\n",
              "        0.,  0.,  4., 11.,  0.,  1., 12.,  7.,  0.,  0.,  2., 14.,  5.,\n",
              "       10., 12.,  0.,  0.,  0.,  0.,  6., 13., 10.,  0.,  0.,  0.])"
            ]
          },
          "metadata": {},
          "execution_count": 20
        }
      ]
    },
    {
      "cell_type": "code",
      "source": [
        "data[0].shape"
      ],
      "metadata": {
        "colab": {
          "base_uri": "https://localhost:8080/"
        },
        "id": "UvOxB7S2raP9",
        "outputId": "29be435d-4252-400f-c528-e43a389a8def"
      },
      "execution_count": null,
      "outputs": [
        {
          "output_type": "execute_result",
          "data": {
            "text/plain": [
              "(64,)"
            ]
          },
          "metadata": {},
          "execution_count": 21
        }
      ]
    },
    {
      "cell_type": "code",
      "source": [
        "data.shape"
      ],
      "metadata": {
        "colab": {
          "base_uri": "https://localhost:8080/"
        },
        "id": "P-3y9_YCrdMn",
        "outputId": "7799b482-16f3-480b-8894-d1ec7d28e7d6"
      },
      "execution_count": null,
      "outputs": [
        {
          "output_type": "execute_result",
          "data": {
            "text/plain": [
              "(1797, 64)"
            ]
          },
          "metadata": {},
          "execution_count": 22
        }
      ]
    },
    {
      "cell_type": "markdown",
      "source": [
        "Scaling image data"
      ],
      "metadata": {
        "id": "aR3joQA3rvY7"
      }
    },
    {
      "cell_type": "code",
      "source": [
        "data.min()"
      ],
      "metadata": {
        "colab": {
          "base_uri": "https://localhost:8080/"
        },
        "id": "Er-EPUKzrf3k",
        "outputId": "84ac7c79-6a0e-4b12-cc40-b5f617764ad8"
      },
      "execution_count": null,
      "outputs": [
        {
          "output_type": "execute_result",
          "data": {
            "text/plain": [
              "0.0"
            ]
          },
          "metadata": {},
          "execution_count": 23
        }
      ]
    },
    {
      "cell_type": "code",
      "source": [
        "data.max()"
      ],
      "metadata": {
        "colab": {
          "base_uri": "https://localhost:8080/"
        },
        "id": "neoBh7uur37I",
        "outputId": "fd2699eb-03c5-4308-de39-94b06c3ca6e2"
      },
      "execution_count": null,
      "outputs": [
        {
          "output_type": "execute_result",
          "data": {
            "text/plain": [
              "16.0"
            ]
          },
          "metadata": {},
          "execution_count": 24
        }
      ]
    },
    {
      "cell_type": "code",
      "source": [
        "data=data/16"
      ],
      "metadata": {
        "id": "EK0QZu5Nr5Ft"
      },
      "execution_count": null,
      "outputs": []
    },
    {
      "cell_type": "code",
      "source": [
        "data.min()"
      ],
      "metadata": {
        "colab": {
          "base_uri": "https://localhost:8080/"
        },
        "id": "YaApYBe4r7nE",
        "outputId": "c6beb2c6-b938-4d77-c5ac-1b00b7a67a57"
      },
      "execution_count": null,
      "outputs": [
        {
          "output_type": "execute_result",
          "data": {
            "text/plain": [
              "0.0"
            ]
          },
          "metadata": {},
          "execution_count": 26
        }
      ]
    },
    {
      "cell_type": "code",
      "source": [
        "data.max()"
      ],
      "metadata": {
        "colab": {
          "base_uri": "https://localhost:8080/"
        },
        "id": "vOfI0k-Xr828",
        "outputId": "138e0b18-bf31-4455-e5bf-4fbd8290c4f4"
      },
      "execution_count": null,
      "outputs": [
        {
          "output_type": "execute_result",
          "data": {
            "text/plain": [
              "1.0"
            ]
          },
          "metadata": {},
          "execution_count": 27
        }
      ]
    },
    {
      "cell_type": "code",
      "source": [
        "data[0]"
      ],
      "metadata": {
        "colab": {
          "base_uri": "https://localhost:8080/"
        },
        "id": "rEPRZEZir-T0",
        "outputId": "7a6bdd6c-db12-4eb7-f5ce-23b854e71ac2"
      },
      "execution_count": null,
      "outputs": [
        {
          "output_type": "execute_result",
          "data": {
            "text/plain": [
              "array([0.    , 0.    , 0.3125, 0.8125, 0.5625, 0.0625, 0.    , 0.    ,\n",
              "       0.    , 0.    , 0.8125, 0.9375, 0.625 , 0.9375, 0.3125, 0.    ,\n",
              "       0.    , 0.1875, 0.9375, 0.125 , 0.    , 0.6875, 0.5   , 0.    ,\n",
              "       0.    , 0.25  , 0.75  , 0.    , 0.    , 0.5   , 0.5   , 0.    ,\n",
              "       0.    , 0.3125, 0.5   , 0.    , 0.    , 0.5625, 0.5   , 0.    ,\n",
              "       0.    , 0.25  , 0.6875, 0.    , 0.0625, 0.75  , 0.4375, 0.    ,\n",
              "       0.    , 0.125 , 0.875 , 0.3125, 0.625 , 0.75  , 0.    , 0.    ,\n",
              "       0.    , 0.    , 0.375 , 0.8125, 0.625 , 0.    , 0.    , 0.    ])"
            ]
          },
          "metadata": {},
          "execution_count": 28
        }
      ]
    },
    {
      "cell_type": "code",
      "source": [
        "#Train Test Split Data\n",
        "from sklearn.model_selection import train_test_split\n",
        "x_train,x_test,y_train,y_test=train_test_split(data,df.target,test_size=0.3)\n",
        "x_train.shape,x_test.shape,y_train.shape,y_test.shape\n"
      ],
      "metadata": {
        "colab": {
          "base_uri": "https://localhost:8080/"
        },
        "id": "31Yqqe4vsByN",
        "outputId": "2f77fec5-98dd-42e9-90a9-adbd4c7d71c7"
      },
      "execution_count": null,
      "outputs": [
        {
          "output_type": "execute_result",
          "data": {
            "text/plain": [
              "((1257, 64), (540, 64), (1257,), (540,))"
            ]
          },
          "metadata": {},
          "execution_count": 30
        }
      ]
    },
    {
      "cell_type": "code",
      "source": [
        "#Random Forest Model\n",
        "from sklearn.ensemble import RandomForestClassifier\n",
        "rf= RandomForestClassifier()\n",
        "rf.fit(x_train,y_train)"
      ],
      "metadata": {
        "id": "Kf-xlumltI7C"
      },
      "execution_count": null,
      "outputs": []
    },
    {
      "cell_type": "code",
      "source": [
        "#Predict test data\n",
        "y_pred=rf.predict(x_test)\n",
        "y_pred"
      ],
      "metadata": {
        "colab": {
          "base_uri": "https://localhost:8080/"
        },
        "id": "RA85iUoxtfog",
        "outputId": "49d30648-e958-40a2-c186-02d8c0371f2b"
      },
      "execution_count": null,
      "outputs": [
        {
          "output_type": "execute_result",
          "data": {
            "text/plain": [
              "array([3, 9, 0, 1, 4, 7, 3, 3, 2, 5, 8, 5, 9, 1, 6, 2, 5, 9, 6, 4, 5, 3,\n",
              "       7, 8, 5, 0, 0, 4, 6, 1, 4, 8, 2, 2, 1, 4, 1, 8, 9, 4, 2, 6, 1, 5,\n",
              "       5, 6, 5, 3, 7, 0, 7, 9, 7, 1, 3, 1, 2, 3, 3, 5, 7, 6, 3, 3, 9, 3,\n",
              "       7, 3, 5, 1, 7, 9, 0, 1, 7, 5, 9, 6, 6, 7, 2, 0, 4, 2, 6, 5, 9, 5,\n",
              "       6, 0, 1, 2, 0, 4, 2, 9, 2, 5, 8, 2, 4, 4, 8, 9, 3, 5, 7, 0, 6, 0,\n",
              "       2, 2, 7, 9, 5, 5, 9, 1, 2, 8, 5, 6, 7, 4, 7, 0, 3, 0, 6, 2, 0, 9,\n",
              "       8, 5, 3, 3, 2, 1, 6, 6, 2, 5, 7, 9, 2, 2, 8, 5, 1, 1, 5, 7, 0, 5,\n",
              "       3, 9, 0, 1, 3, 1, 6, 7, 4, 5, 6, 9, 2, 8, 6, 6, 1, 4, 4, 8, 5, 4,\n",
              "       0, 3, 8, 6, 7, 5, 3, 6, 0, 7, 4, 3, 4, 7, 0, 6, 2, 6, 9, 2, 0, 4,\n",
              "       5, 8, 9, 1, 5, 0, 3, 3, 4, 8, 3, 4, 2, 8, 4, 7, 5, 6, 6, 2, 4, 6,\n",
              "       1, 5, 5, 0, 2, 2, 0, 8, 1, 9, 4, 8, 2, 6, 9, 6, 9, 4, 4, 4, 6, 3,\n",
              "       3, 4, 1, 3, 1, 5, 0, 0, 7, 2, 0, 2, 1, 7, 4, 9, 8, 8, 5, 7, 4, 7,\n",
              "       2, 0, 1, 4, 0, 8, 8, 7, 4, 6, 3, 7, 1, 0, 7, 0, 9, 7, 8, 6, 2, 6,\n",
              "       4, 6, 8, 8, 2, 2, 6, 1, 4, 9, 2, 0, 4, 4, 1, 0, 7, 6, 4, 6, 7, 8,\n",
              "       2, 8, 0, 4, 8, 5, 5, 2, 7, 7, 8, 7, 0, 8, 5, 9, 2, 5, 5, 5, 9, 1,\n",
              "       8, 7, 7, 9, 9, 9, 5, 2, 9, 4, 1, 7, 5, 1, 7, 6, 8, 5, 6, 4, 7, 8,\n",
              "       3, 0, 6, 9, 2, 3, 1, 1, 3, 3, 2, 1, 5, 1, 5, 6, 5, 6, 7, 7, 6, 3,\n",
              "       2, 1, 1, 7, 2, 4, 8, 3, 9, 0, 8, 1, 9, 7, 6, 6, 9, 7, 7, 6, 5, 2,\n",
              "       0, 9, 9, 1, 2, 4, 3, 2, 4, 3, 7, 3, 1, 9, 4, 2, 9, 5, 7, 2, 3, 7,\n",
              "       2, 7, 1, 8, 0, 0, 4, 6, 4, 3, 6, 1, 5, 4, 4, 6, 0, 2, 4, 8, 7, 7,\n",
              "       6, 3, 9, 7, 5, 4, 1, 4, 1, 1, 8, 1, 3, 3, 5, 6, 9, 9, 6, 6, 4, 4,\n",
              "       2, 9, 3, 0, 0, 7, 2, 3, 0, 8, 8, 2, 3, 3, 3, 4, 2, 7, 8, 3, 7, 3,\n",
              "       3, 0, 1, 9, 9, 0, 5, 7, 3, 0, 9, 5, 5, 3, 7, 1, 8, 3, 5, 9, 7, 1,\n",
              "       5, 1, 9, 4, 0, 4, 8, 3, 9, 3, 8, 1, 6, 7, 0, 4, 9, 6, 2, 4, 3, 8,\n",
              "       2, 4, 8, 1, 1, 2, 5, 7, 1, 9, 6, 9])"
            ]
          },
          "metadata": {},
          "execution_count": 32
        }
      ]
    },
    {
      "cell_type": "code",
      "source": [
        "#Model Accuracy\n",
        "from sklearn.metrics import accuracy_score\n",
        "accuracy_score(y_test,y_pred)"
      ],
      "metadata": {
        "colab": {
          "base_uri": "https://localhost:8080/"
        },
        "id": "NfswlCllttbu",
        "outputId": "1d4648a9-033e-465e-e2b3-a2108dd1d636"
      },
      "execution_count": null,
      "outputs": [
        {
          "output_type": "execute_result",
          "data": {
            "text/plain": [
              "0.9722222222222222"
            ]
          },
          "metadata": {},
          "execution_count": 35
        }
      ]
    },
    {
      "cell_type": "markdown",
      "source": [
        "Explanation - The above model for digit prediction is 97.22% accurate. Hence, the problem is resolved and the model can be declared satisfactory because of its high accuracy score."
      ],
      "metadata": {
        "id": "iTx6GP0PuXt2"
      }
    }
  ]
}